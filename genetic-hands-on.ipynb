{
 "cells": [
  {
   "cell_type": "markdown",
   "metadata": {},
   "source": [
    "<h1 style = \"font-size: 30px; text-align: center;\">AI Genetic Hands On</h1>\n",
    "<h2 style = \"font-size: 25px; text-align: center;\">Hospital Job Scheduling</h2>\n",
    "<h2 style = \"font-size: 25px; text-align: center; color: #666\">Name: Hamid Mohtadi Jafari</h2>\n",
    "<h2 style = \"font-size: 25px; text-align: center; color: #666\">Student Id: 810195485</h2>\n",
    "<h4 style=\"text-align: center\">Spring 1400</h4>"
   ]
  },
  {
   "cell_type": "markdown",
   "metadata": {},
   "source": [
    "<h2 style = \"font-size: 25px;\">Notes</h2>\n",
    "\n",
    "<h3>Tests: </h3>\n",
    "\n",
    "<p style=\"text-indent :2em;\"><b>Test1: </b><mark>Average time < 15s</mark></p>\n",
    "<p style=\"text-indent :2em;\"><b>Test2: </b><mark>Average time < 60s</mark></p>\n",
    "    \n",
    "\n",
    "<h3>Outputs: </h3>\n",
    "<p style=\"text-indent :2em;\">Respectively <mark>output1.txt</mark> and <mark>output2.txt</mark></p>\n",
    "\n",
    "<br>"
   ]
  },
  {
   "cell_type": "code",
   "execution_count": 188,
   "metadata": {},
   "outputs": [],
   "source": [
    "import random\n",
    "import itertools"
   ]
  },
  {
   "cell_type": "markdown",
   "metadata": {},
   "source": [
    "<h2 style = \"font-size: 25px;\">Test Files</h2>"
   ]
  },
  {
   "cell_type": "code",
   "execution_count": 189,
   "metadata": {},
   "outputs": [],
   "source": [
    "testFile1 = \"test1.txt\"\n",
    "testFile2 = \"test2.txt\""
   ]
  },
  {
   "cell_type": "markdown",
   "metadata": {},
   "source": [
    "<h2 style = \"font-size: 25px;\">Reading Test File Content</h2>"
   ]
  },
  {
   "cell_type": "code",
   "execution_count": 190,
   "metadata": {},
   "outputs": [],
   "source": [
    "def readInput(testFile) :\n",
    "    file = open(testFile, 'r+')\n",
    "    fileList = file.readlines()\n",
    "    fileList = [s.replace('\\n', '') for s in fileList]\n",
    "    \n",
    "    [days, doctors] = [int(i) for i in fileList[0].split()]\n",
    "    maxCapacity = int(fileList[1])\n",
    "    \n",
    "    allShifts = []\n",
    "    for i in range(2, days + 2):\n",
    "        dayRequirements = fileList[i].split()\n",
    "        morningReqs = [int(i) for i in dayRequirements[0].split(\",\")]\n",
    "        eveningReqs = [int(i) for i in dayRequirements[1].split(\",\")]\n",
    "        nightReqs = [int(i) for i in dayRequirements[2].split(\",\")]\n",
    "        \n",
    "        allShifts.append((morningReqs, eveningReqs, nightReqs))\n",
    "\n",
    "    file.close()\n",
    "    return [days, list(range(doctors)), maxCapacity, allShifts]"
   ]
  },
  {
   "cell_type": "markdown",
   "metadata": {},
   "source": [
    "# genes and chromosomes"
   ]
  },
  {
   "cell_type": "markdown",
   "metadata": {},
   "source": [
    "In this problem the gene will be a day Schedule and  chromosome will be the whole Schedule"
   ]
  },
  {
   "cell_type": "markdown",
   "metadata": {},
   "source": [
    "# First Generation"
   ]
  },
  {
   "cell_type": "markdown",
   "metadata": {},
   "source": [
    "for making a first generation we use random data made with random.sample for each gene in the function make_gene but there is 2 constraints for data:\n",
    "1) doctor for each shift should be unique(1 doctot can't count as 2) <br>\n",
    "2) number of docs in 1 shift is between min and max of that shift(because it is easy to perform this limit )<br>\n",
    "the Population is 500"
   ]
  },
  {
   "cell_type": "markdown",
   "metadata": {},
   "source": [
    "# Fitness"
   ]
  },
  {
   "cell_type": "markdown",
   "metadata": {},
   "source": [
    "To calculate the fitness of each chromosomes we need to check that this 3 conditions won't happen:\n",
    "1) compare night shifts with morning and evening shifts of tommorow<br>\n",
    "2) check for 3 continuous for same doctor<br>\n",
    "3) check number of shifts for all doctors to check if it is surpassed the limit<br>\n",
    "for each violation of this 3 conditions there will be negetive points to fitness and we reach the perfect chromosome when fitness score will be 0<br>\n",
    "function calculateFitness used to perform this 3 conditions"
   ]
  },
  {
   "cell_type": "markdown",
   "metadata": {},
   "source": [
    "# Crossover"
   ]
  },
  {
   "cell_type": "markdown",
   "metadata": {},
   "source": [
    "to make new chromosomes from 2 original chromosomes we use crossover and rules are:<br>\n",
    "there is 65 percent chance that crossover happens <br>\n",
    "for each genes in chromosomes there is a 50 percent chance that it would change to the other chromosome<br>\n",
    "you can check this in 2 function of generateNewPopulation and crossOver"
   ]
  },
  {
   "cell_type": "markdown",
   "metadata": {},
   "source": [
    "# Mutation"
   ]
  },
  {
   "cell_type": "markdown",
   "metadata": {},
   "source": [
    "if we only use crossover to make new chromosomes we can't add new things to population and we may reach a point that crossover can't help to rach new answers<br>\n",
    "to Prevent that we use mutation:<br>\n",
    "there is 10 percent chance that a random gene in chromosome would change to a completly new gene<br>\n",
    "you can check this in 2 function of generateNewPopulation and mutate"
   ]
  },
  {
   "cell_type": "markdown",
   "metadata": {},
   "source": [
    "# Genetic Algorithm"
   ]
  },
  {
   "cell_type": "markdown",
   "metadata": {},
   "source": [
    "after Generating first generation we sort chromosomes by fitness then we check if we have a fitness equal to 0 and if we don't then on each step we do a crossover and mutation on chromosomes then we check it again until we reach max fitness<br>\n",
    "the max number for each step is 3000<br>\n",
    "before crossover and mutation we store 16 percent of  Population with best fitness score for new generations"
   ]
  },
  {
   "cell_type": "markdown",
   "metadata": {},
   "source": [
    "<h2 style = \"font-size: 25px;\">Job Scheduler</h2>"
   ]
  },
  {
   "cell_type": "code",
   "execution_count": 197,
   "metadata": {},
   "outputs": [],
   "source": [
    "class JobScheduler:\n",
    "    def __init__(self, fileInfo):\n",
    "        self.days = fileInfo[0]\n",
    "        self.doctors = len(fileInfo[1])\n",
    "        self.doctorsIds = fileInfo[1]\n",
    "        self.maxCapacity = fileInfo[2]\n",
    "        self.allShifts = fileInfo[3]\n",
    "        self.popSize = 500\n",
    "        self.chromosomes = self.generateInitialPopulation()\n",
    "        self.reset_times = 3000\n",
    "        \n",
    "        # self.crossOverPoints = (relative to number of days)\n",
    "        self.elitismPercentage = 0.16 #(move x% best of parents directly to the new population)\n",
    "        self.pc = 0.65 \n",
    "        self.pm = 0.1  \n",
    "        \n",
    "        \n",
    "    \n",
    "    def make_gene(self,day_limits):\n",
    "        gene = []\n",
    "        for limit in day_limits:\n",
    "            doc_num = random.randint(limit[0],limit[1])\n",
    "            day_souloution = random.sample(self.doctorsIds, doc_num)\n",
    "            gene.append(day_souloution)\n",
    "        return gene\n",
    "    \n",
    "    def make_gene_for_mutation(self,day_limits):\n",
    "        gene = []\n",
    "        for limit in day_limits:\n",
    "            day_souloution = random.sample(self.doctorsIds, limit[0])\n",
    "            gene.append(day_souloution)\n",
    "        return gene\n",
    "            \n",
    "            \n",
    "        \n",
    "        \n",
    "        \n",
    "    def generateInitialPopulation(self):\n",
    "        chromosomes = []\n",
    "        \n",
    "        for i in range(self.popSize):\n",
    "            chromosome = []\n",
    "            for day_shift in self.allShifts:\n",
    "                chromosome.append(self.make_gene(day_shift))\n",
    "            chromosome =[chromosome,0]\n",
    "            fitness_score = self.calculateFitness(chromosome)\n",
    "            chromosomes.append([chromosome[0],fitness_score])\n",
    "        return chromosomes\n",
    "        \n",
    "    \n",
    "    def crossOver(self, chromosome1, chromosome2):\n",
    "        if random.uniform(0, 1) < self.pc:\n",
    "            for i in range(len(chromosome1[0])):\n",
    "                if random.uniform(0, 1) < 0.5:\n",
    "                    temp = chromosome1[0][i]\n",
    "                    chromosome1[0][i] = chromosome2[0][i]\n",
    "                    chromosome2[0][i] = temp\n",
    "        else:\n",
    "            return [chromosome1, chromosome2]\n",
    "        return [chromosome1, chromosome2]\n",
    "        \n",
    "                \n",
    "    def mutate(self, chromosome):\n",
    "        if random.uniform(0, 1) < self.pm:\n",
    "            first = random.sample(range(len(chromosome[0])), 1)\n",
    "            first = first[0]\n",
    "            chromosome[0][first] = self.make_gene_for_mutation(self.allShifts[first])\n",
    "        else:\n",
    "            return chromosome\n",
    "        return chromosome\n",
    "        \n",
    "       \n",
    "    def check_same_doctor_on_two_continuous_days(self, schedule):\n",
    "        fitness_score = 0\n",
    "        for i,day_shift in enumerate(schedule):\n",
    "            if i == (len(schedule)-1):\n",
    "                continue\n",
    "            for night_shift in day_shift[2]:\n",
    "                if night_shift in schedule[i+1][0]:\n",
    "                    fitness_score -= 1\n",
    "                if night_shift in schedule[i+1][1]:\n",
    "                    fitness_score -= 1\n",
    "        return fitness_score\n",
    "    \n",
    "    def check_same_doctor_on_three_continuous_night_shifts(self,schedule):\n",
    "        fitness_score = 0\n",
    "        for i,day_shift in enumerate(schedule):\n",
    "            if (i == (len(schedule)-1)) or (i == (len(schedule)-2)):\n",
    "                continue\n",
    "            for night_shift in day_shift[2]:\n",
    "                if (night_shift in schedule[i+1][2]) and (night_shift in schedule[i+2][2]):\n",
    "                    fitness_score -= 1\n",
    "        return fitness_score\n",
    "    \n",
    "    def check_shift_limits_for_each_doctor(self,schedule):\n",
    "        fitness_score = 0\n",
    "        doctor_shifts = {}\n",
    "        for doctor_id in self.doctorsIds:\n",
    "            doctor_shifts[doctor_id] = 0\n",
    "        schedule = list(itertools.chain.from_iterable(schedule))\n",
    "        schedule = list(itertools.chain.from_iterable(schedule))\n",
    "        for doctor_id in schedule:\n",
    "            doctor_shifts[doctor_id] += 1\n",
    "        for doctor_id in self.doctorsIds:\n",
    "            if doctor_shifts[doctor_id] > self.maxCapacity:\n",
    "                fitness_score += (self.maxCapacity - doctor_shifts[doctor_id])\n",
    "        return fitness_score\n",
    "            \n",
    "        \n",
    "    \n",
    "    def calculateFitness(self, chromosome):\n",
    "        fitness_score = 0\n",
    "        fitness_score += self.check_same_doctor_on_two_continuous_days(chromosome[0])\n",
    "        fitness_score += self.check_same_doctor_on_three_continuous_night_shifts(chromosome[0])\n",
    "        fitness_score += self.check_shift_limits_for_each_doctor(chromosome[0])\n",
    "        \n",
    "        return fitness_score\n",
    "    \n",
    "    \n",
    "    def generateNewPopulation(self):\n",
    "        new_generation = []\n",
    "        chosen_ones = int(self.elitismPercentage * self.popSize)\n",
    "        for i in range(chosen_ones) : \n",
    "            new_generation.append(self.chromosomes[i])\n",
    "        for i in range(int((self.popSize-chosen_ones)/2)) :\n",
    "            while True:\n",
    "                parent1, parent2 = random.choices(self.chromosomes[:int(self.popSize * 0.6)], k=2)\n",
    "                if parent1 != parent2:\n",
    "                    break\n",
    "            child1, child2 = self.crossOver(parent1, parent2)\n",
    "            child1 = self.mutate(child1)\n",
    "            child2 = self.mutate(child2)\n",
    "            child1[1] = self.calculateFitness(child1)\n",
    "            child2[1] = self.calculateFitness(child2)\n",
    "            new_generation.append(child1)\n",
    "            new_generation.append(child2)\n",
    "        new_generation.sort(key=lambda x: x[1], reverse=True)\n",
    "        return new_generation\n",
    "    \n",
    "    \n",
    "    def schedule(self): \n",
    "        self.chromosomes.sort(key=lambda x: x[1], reverse=True)\n",
    "        index = 0\n",
    "        while (self.chromosomes[0][1] != 0):\n",
    "            if index == self.reset_times:\n",
    "                break\n",
    "            self.chromosomes = self.generateNewPopulation()\n",
    "            index += 1\n",
    "        print(index)\n",
    "#         print(self.chromosomes[0])\n",
    "        return self.chromosomes[0]"
   ]
  },
  {
   "cell_type": "markdown",
   "metadata": {},
   "source": [
    "# Write Output"
   ]
  },
  {
   "cell_type": "markdown",
   "metadata": {},
   "source": [
    "In the end we should write down the output in a file code below first open a file given as input then write on it and then close it"
   ]
  },
  {
   "cell_type": "code",
   "execution_count": 192,
   "metadata": {},
   "outputs": [],
   "source": [
    "def output(schedule,name):\n",
    "    f= open(name,\"w+\")\n",
    "    for day_shift in schedule:\n",
    "        line = ''\n",
    "        for shift in day_shift:\n",
    "            for i,doctor_id in enumerate(shift):\n",
    "                line += str(doctor_id)\n",
    "                if i != (len(shift)-1):\n",
    "                    line += ','\n",
    "            line += ' '\n",
    "        line += '\\n'    \n",
    "        f.write(line)\n",
    "    f.close()\n",
    "    f.close()"
   ]
  },
  {
   "cell_type": "markdown",
   "metadata": {},
   "source": [
    "<h2 style = \"font-size: 25px;\">Execution</h2>"
   ]
  },
  {
   "cell_type": "code",
   "execution_count": 195,
   "metadata": {},
   "outputs": [
    {
     "name": "stdout",
     "output_type": "stream",
     "text": [
      "19\n",
      "test 1:  0.28 sec\n",
      "[[[[6, 0], [2], [0, 6]], [[1], [2, 1], [6]], [[1], [4], [4]], [[1], [6], [5, 1, 6]], [[0], [], [3]], [[5], [], [4]], [[3, 1], [5], [0]], [[], [5], [2, 0]], [[], [], []], [[0], [2], [4, 1]]], 0]\n"
     ]
    }
   ],
   "source": [
    "import time\n",
    "\n",
    "\n",
    "fileInfo1 = readInput(testFile1)\n",
    "\n",
    "start = time.time()\n",
    "\n",
    "scheduler = JobScheduler(fileInfo1)\n",
    "schedule = scheduler.schedule()\n",
    "\n",
    "end = time.time()\n",
    "\n",
    "print(\"test 1: \", '%.2f'%(end - start), 'sec')\n",
    "print(schedule)\n",
    "output(schedule[0],\"out1.txt\")"
   ]
  },
  {
   "cell_type": "code",
   "execution_count": 196,
   "metadata": {},
   "outputs": [
    {
     "name": "stdout",
     "output_type": "stream",
     "text": [
      "360\n",
      "Test 2:  5.68 sec\n",
      "[[[[4, 3], [6], [3]], [[2, 5], [7], [6]], [[2], [8], [2, 4]], [[], [5], [6, 4]], [[2], [], [3]], [[1, 2], [5], [0, 5]], [[], [4], [7, 8]], [[2], [0, 2, 4], [1, 2]], [[8], [6, 4, 3, 5], [3, 2]], [[], [], []], [[], [6], []], [[4, 8], [7], []], [[2], [7, 6], [8, 0]], [[3], [5, 2], [2, 8, 4]], [[], [5, 7], [3]]], 0]\n"
     ]
    }
   ],
   "source": [
    "fileInfo2 = readInput(testFile2)\n",
    "\n",
    "start = time.time()\n",
    "\n",
    "scheduler = JobScheduler(fileInfo2)\n",
    "schedule = scheduler.schedule()\n",
    "\n",
    "end = time.time()\n",
    "\n",
    "print(\"Test 2: \", '%.2f'%(end - start), 'sec')\n",
    "print(schedule)\n",
    "output(schedule[0],\"out2.txt\")"
   ]
  },
  {
   "cell_type": "code",
   "execution_count": null,
   "metadata": {},
   "outputs": [],
   "source": []
  }
 ],
 "metadata": {
  "kernelspec": {
   "display_name": "Python 3",
   "language": "python",
   "name": "python3"
  },
  "language_info": {
   "codemirror_mode": {
    "name": "ipython",
    "version": 3
   },
   "file_extension": ".py",
   "mimetype": "text/x-python",
   "name": "python",
   "nbconvert_exporter": "python",
   "pygments_lexer": "ipython3",
   "version": "3.9.2"
  }
 },
 "nbformat": 4,
 "nbformat_minor": 4
}
